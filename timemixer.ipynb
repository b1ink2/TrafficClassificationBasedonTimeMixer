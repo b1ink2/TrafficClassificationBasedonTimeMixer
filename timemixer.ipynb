{
 "cells": [
  {
   "cell_type": "markdown",
   "metadata": {},
   "source": [
    "# TimeMixer++"
   ]
  },
  {
   "cell_type": "code",
   "execution_count": 1,
   "metadata": {},
   "outputs": [],
   "source": [
    "import warnings\n",
    "\n",
    "warnings.filterwarnings('ignore')"
   ]
  },
  {
   "cell_type": "code",
   "execution_count": 2,
   "metadata": {},
   "outputs": [],
   "source": [
    "class DynamicArgs(dict):\n",
    "    __getattr__ = dict.get\n",
    "    __setattr__ = dict.__setitem__\n",
    "    __delattr__ = dict.__delitem__\n"
   ]
  },
  {
   "cell_type": "code",
   "execution_count": 3,
   "metadata": {},
   "outputs": [],
   "source": [
    "import torch\n",
    "data = 'custom'\n",
    "root_path = '../datasets/'\n",
    "data_path = 'vpn-vnat-m.csv'\n",
    "\n",
    "pred_len = 0\n",
    "seq_len = 96\n",
    "\n",
    "target = 'Label'\n",
    "# 创建一个 DynamicArgs 对象并初始化所有参数\n",
    "args = DynamicArgs({\n",
    "    # Required 参数（必须设置）\n",
    "    \"task_name\": \"classification\",\n",
    "    \"is_training\": 1,\n",
    "    \"model_id\": \"EncryptTrafficClass\",\n",
    "    \"model\": \"TimeMixer\",\n",
    "\n",
    "    # Data loader\n",
    "    \"data\": \"custom\",\n",
    "    \"root_path\": root_path,\n",
    "    \"data_path\": data_path,\n",
    "    \"features\": \"MS\",\n",
    "    \"target\": target,\n",
    "    \"freq\": \"ms\",\n",
    "    \"checkpoints\": \"./checkpoints/\",\n",
    "\n",
    "    # Forecasting task\n",
    "    \"seq_len\": seq_len,\n",
    "    \"label_len\": 0,\n",
    "    \"pred_len\": pred_len,\n",
    "    \"seasonal_patterns\": \"Hourly\",\n",
    "    \"inverse\": False,\n",
    "\n",
    "    # Model define\n",
    "    \"top_k\": 5,\n",
    "    \"num_kernels\": 6,\n",
    "    \"enc_in\": 76,\n",
    "    \"dec_in\": 76,\n",
    "    \"c_out\": 1,\n",
    "    \"d_model\": 128,\n",
    "    \"n_heads\": 8,\n",
    "    \"e_layers\": 2,\n",
    "    \"d_layers\": 1,\n",
    "    \"d_ff\": 256,\n",
    "    \"moving_avg\": 25,\n",
    "    \"factor\": 1,\n",
    "    \"distil\": True,\n",
    "    \"dropout\": 0.1,\n",
    "    \"embed\": \"timeF\",\n",
    "    \"activation\": \"gelu\",\n",
    "    \"output_attention\": False,\n",
    "    \"channel_independence\": 0,\n",
    "    \"decomp_method\": \"moving_avg\",\n",
    "    \"use_norm\": 0,\n",
    "    \"down_sampling_layers\": 1,\n",
    "    \"down_sampling_window\": 2,\n",
    "    \"down_sampling_method\": \"avg\",\n",
    "    \"use_future_temporal_feature\": 0,\n",
    "\n",
    "    # Optimization\n",
    "    \"batch_size\": 32,\n",
    "    \"train_epochs\": 10,\n",
    "    \"patience\": 10,\n",
    "    \"learning_rate\": 0.003,\n",
    "    \"loss\": \"MSE\",\n",
    "    \"lradj\": \"type1\",\n",
    "    \"pct_start\": 0.2,\n",
    "    \"use_amp\": False,\n",
    "    \"des\": \"Exp\",\n",
    "    \"itr\": 1,\n",
    "    \"num_workers\": 10,\n",
    "    \"comment\": \"none\",\n",
    "\n",
    "    # GPU\n",
    "    \"use_gpu\": torch.cuda.is_available(),\n",
    "    \"gpu\": 0,\n",
    "    \"use_multi_gpu\": False,\n",
    "    \"devices\": \"0,1\",\n",
    "\n",
    "    # De-stationary projector params\n",
    "    \"p_hidden_dims\": [128, 128],\n",
    "    \"p_hidden_layers\": 2,\n",
    "})"
   ]
  },
  {
   "cell_type": "code",
   "execution_count": 4,
   "metadata": {},
   "outputs": [
    {
     "name": "stdout",
     "output_type": "stream",
     "text": [
      "Use CPU\n",
      "train 30285\n",
      "val 6415\n",
      "test 6415\n"
     ]
    },
    {
     "ename": "",
     "evalue": "",
     "output_type": "error",
     "traceback": [
      "\u001b[1;31mThe Kernel crashed while executing code in the the current cell or a previous cell. Please review the code in the cell(s) to identify a possible cause of the failure. Click <a href='https://aka.ms/vscodeJupyterKernelCrash'>here</a> for more info. View Jupyter <a href='command:jupyter.viewOutput'>log</a> for further details."
     ]
    }
   ],
   "source": [
    "from exp.exp_classification import Exp_Classification\n",
    "\n",
    "exp = Exp_Classification(args)\n",
    "setting = \"{}_{}_{}_{}_{}_sl{}_pl{}_dm{}_nh{}_el{}_dl{}_df{}_fc{}_eb{}_dt{}_{}_{}\".format(\n",
    "    args.task_name,\n",
    "    args.model_id,\n",
    "    args.comment,\n",
    "    args.model,\n",
    "    args.data,\n",
    "    args.seq_len,\n",
    "    args.pred_len,\n",
    "    args.d_model,\n",
    "    args.n_heads,\n",
    "    args.e_layers,\n",
    "    args.d_layers,\n",
    "    args.d_ff,\n",
    "    args.factor,\n",
    "    args.embed,\n",
    "    args.distil,\n",
    "    args.des,\n",
    "    0\n",
    ")\n",
    "exp.train(setting)"
   ]
  }
 ],
 "metadata": {
  "kernelspec": {
   "display_name": "Python 3 (ipykernel)",
   "language": "python",
   "name": "python3"
  },
  "language_info": {
   "codemirror_mode": {
    "name": "ipython",
    "version": 3
   },
   "file_extension": ".py",
   "mimetype": "text/x-python",
   "name": "python",
   "nbconvert_exporter": "python",
   "pygments_lexer": "ipython3",
   "version": "3.9.13"
  }
 },
 "nbformat": 4,
 "nbformat_minor": 4
}
